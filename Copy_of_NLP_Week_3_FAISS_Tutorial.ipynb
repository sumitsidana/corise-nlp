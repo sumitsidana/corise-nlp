{
  "nbformat": 4,
  "nbformat_minor": 0,
  "metadata": {
    "colab": {
      "provenance": [],
      "include_colab_link": true
    },
    "kernelspec": {
      "name": "python3",
      "display_name": "Python 3"
    },
    "language_info": {
      "name": "python"
    }
  },
  "cells": [
    {
      "cell_type": "markdown",
      "metadata": {
        "id": "view-in-github",
        "colab_type": "text"
      },
      "source": [
        "<a href=\"https://colab.research.google.com/github/sumitsidana/corise-nlp/blob/main/Copy_of_NLP_Week_3_FAISS_Tutorial.ipynb\" target=\"_parent\"><img src=\"https://colab.research.google.com/assets/colab-badge.svg\" alt=\"Open In Colab\"/></a>"
      ]
    },
    {
      "cell_type": "markdown",
      "source": [
        "> DUPLICATE THIS COLAB TO START WORKING ON IT. Using File > Save a copy to drive.\n",
        "\n",
        "\n",
        "# Week 3: FAISS Tutorial\n",
        "\n",
        "### What we are looking at\n",
        "The goal of this small tutorial, is to provide you a quick overview into what FAISS does and how you can utilize it for Week 3 project. FAISS is an index for efficiently storing searchable embeddings of objects (e.g. sentences, images, ...). This efficient storing allows us to quickly compare our current object against the objects present in the index, and thus find relevant similar results. FAISS uses approximate nearest neighbor search to achieve these quick results.\n",
        "\n",
        "### Instructions\n",
        "\n",
        "1. Go through all the steps and look at what kind of embeddings we create.\n",
        "1. Feel free to add more sentences to be embedded.\n",
        "1. Make sure to have a look at the interactive graph, and see how close some results are, and how some are not. Does it make sense?\n",
        "1. Have a look at the results retrieved from the FAISS index we made. Are they appropriate? Try and play around with the number of results it retrieves.\n",
        "\n",
        "### Code Overview\n",
        "\n",
        "- Dependencies: Install and import python dependencies\n",
        "- Dataset creation\n",
        "- Cohere API\n",
        "- Creating a FAISS index\n"
      ],
      "metadata": {
        "id": "D3Q13pqVM-8D"
      }
    },
    {
      "cell_type": "markdown",
      "source": [
        "# Dependencies\n",
        "\n",
        "✨ Now let's get started! To kick things off, as always, we will install some dependencies."
      ],
      "metadata": {
        "id": "faxj21eGPeQh"
      }
    },
    {
      "cell_type": "code",
      "execution_count": 1,
      "metadata": {
        "id": "FoH9De1v8-ez"
      },
      "outputs": [],
      "source": [
        "%%capture\n",
        "!pip install cohere umap-learn faiss-gpu altair\n",
        "!apt install libopenblas-base libomp-dev"
      ]
    },
    {
      "cell_type": "markdown",
      "source": [
        "Import all the necessary libraries we need throughout the project. Make sure to create a Cohere account and create an API key: https://os.cohere.ai/"
      ],
      "metadata": {
        "id": "vkBg-06IPkop"
      }
    },
    {
      "cell_type": "code",
      "source": [
        "import cohere\n",
        "import umap\n",
        "import faiss\n",
        "\n",
        "import numpy as np\n",
        "import pandas as pd\n",
        "import altair as alt\n",
        "\n",
        "\n",
        "COHERE_API_KEY = \"PJWSIYnprK3KBftRo9W6lSXMYyA4FRcQCWrTChjv\"\n",
        "co = cohere.Client(COHERE_API_KEY)"
      ],
      "metadata": {
        "id": "wPNkMb399Ngh"
      },
      "execution_count": 5,
      "outputs": []
    },
    {
      "cell_type": "markdown",
      "source": [
        "## Dataset creation\n",
        "\n",
        "Below we create our own small dataset, and its WONDERFUL🤩. Please feel free to add your own examples to it, the more the better✨✨! We make use of Cohere to quickly retrieve sentence embeddings that can be used for storing in our FAISS index."
      ],
      "metadata": {
        "id": "vy8qFO6RPnzc"
      }
    },
    {
      "cell_type": "code",
      "source": [
        "sentences = [\n",
        "             # Movies\n",
        "             \"I am watching a movie.\",\n",
        "             \"I'm going to the movies.\",\n",
        "             \"Cinema's popcorn smell is amazing.\",\n",
        "             \"These guys kept talking while I was watching the movie.\",\n",
        "             # Groceries\n",
        "             \"Groceries are expensive now?\",\n",
        "             \"What happend to all my groceries, they are all rotten.\",\n",
        "             \"I like avocado toast\",\n",
        "             \"Cheese is over there!\",\n",
        "             \"Spinach is the food of the gods.\",\n",
        "             \"Healthy dose of protein powder is always good.\",\n",
        "             # Music\n",
        "             \"Coldplay is not my favorite band anymore.\",\n",
        "             \"I really liked MTV, with all the video clips.\",\n",
        "             \"What music would you like me to play?\",\n",
        "             \"He's playing piano very well.\"\n",
        "             ]\n",
        "\n",
        "df = pd.DataFrame (sentences, columns = ['conversation'])\n",
        "df.head()"
      ],
      "metadata": {
        "id": "24IDW29Q-K4l",
        "colab": {
          "base_uri": "https://localhost:8080/",
          "height": 206
        },
        "outputId": "c2dfcc32-5eb5-41ad-e7a9-473d0758192f"
      },
      "execution_count": 7,
      "outputs": [
        {
          "output_type": "execute_result",
          "data": {
            "text/plain": [
              "                                        conversation\n",
              "0                             I am watching a movie.\n",
              "1                           I'm going to the movies.\n",
              "2                 Cinema's popcorn smell is amazing.\n",
              "3  These guys kept talking while I was watching t...\n",
              "4                       Groceries are expensive now?"
            ],
            "text/html": [
              "\n",
              "  <div id=\"df-b5dad3a5-7ad8-4908-97c6-bf16ff42d046\">\n",
              "    <div class=\"colab-df-container\">\n",
              "      <div>\n",
              "<style scoped>\n",
              "    .dataframe tbody tr th:only-of-type {\n",
              "        vertical-align: middle;\n",
              "    }\n",
              "\n",
              "    .dataframe tbody tr th {\n",
              "        vertical-align: top;\n",
              "    }\n",
              "\n",
              "    .dataframe thead th {\n",
              "        text-align: right;\n",
              "    }\n",
              "</style>\n",
              "<table border=\"1\" class=\"dataframe\">\n",
              "  <thead>\n",
              "    <tr style=\"text-align: right;\">\n",
              "      <th></th>\n",
              "      <th>conversation</th>\n",
              "    </tr>\n",
              "  </thead>\n",
              "  <tbody>\n",
              "    <tr>\n",
              "      <th>0</th>\n",
              "      <td>I am watching a movie.</td>\n",
              "    </tr>\n",
              "    <tr>\n",
              "      <th>1</th>\n",
              "      <td>I'm going to the movies.</td>\n",
              "    </tr>\n",
              "    <tr>\n",
              "      <th>2</th>\n",
              "      <td>Cinema's popcorn smell is amazing.</td>\n",
              "    </tr>\n",
              "    <tr>\n",
              "      <th>3</th>\n",
              "      <td>These guys kept talking while I was watching t...</td>\n",
              "    </tr>\n",
              "    <tr>\n",
              "      <th>4</th>\n",
              "      <td>Groceries are expensive now?</td>\n",
              "    </tr>\n",
              "  </tbody>\n",
              "</table>\n",
              "</div>\n",
              "      <button class=\"colab-df-convert\" onclick=\"convertToInteractive('df-b5dad3a5-7ad8-4908-97c6-bf16ff42d046')\"\n",
              "              title=\"Convert this dataframe to an interactive table.\"\n",
              "              style=\"display:none;\">\n",
              "        \n",
              "  <svg xmlns=\"http://www.w3.org/2000/svg\" height=\"24px\"viewBox=\"0 0 24 24\"\n",
              "       width=\"24px\">\n",
              "    <path d=\"M0 0h24v24H0V0z\" fill=\"none\"/>\n",
              "    <path d=\"M18.56 5.44l.94 2.06.94-2.06 2.06-.94-2.06-.94-.94-2.06-.94 2.06-2.06.94zm-11 1L8.5 8.5l.94-2.06 2.06-.94-2.06-.94L8.5 2.5l-.94 2.06-2.06.94zm10 10l.94 2.06.94-2.06 2.06-.94-2.06-.94-.94-2.06-.94 2.06-2.06.94z\"/><path d=\"M17.41 7.96l-1.37-1.37c-.4-.4-.92-.59-1.43-.59-.52 0-1.04.2-1.43.59L10.3 9.45l-7.72 7.72c-.78.78-.78 2.05 0 2.83L4 21.41c.39.39.9.59 1.41.59.51 0 1.02-.2 1.41-.59l7.78-7.78 2.81-2.81c.8-.78.8-2.07 0-2.86zM5.41 20L4 18.59l7.72-7.72 1.47 1.35L5.41 20z\"/>\n",
              "  </svg>\n",
              "      </button>\n",
              "      \n",
              "  <style>\n",
              "    .colab-df-container {\n",
              "      display:flex;\n",
              "      flex-wrap:wrap;\n",
              "      gap: 12px;\n",
              "    }\n",
              "\n",
              "    .colab-df-convert {\n",
              "      background-color: #E8F0FE;\n",
              "      border: none;\n",
              "      border-radius: 50%;\n",
              "      cursor: pointer;\n",
              "      display: none;\n",
              "      fill: #1967D2;\n",
              "      height: 32px;\n",
              "      padding: 0 0 0 0;\n",
              "      width: 32px;\n",
              "    }\n",
              "\n",
              "    .colab-df-convert:hover {\n",
              "      background-color: #E2EBFA;\n",
              "      box-shadow: 0px 1px 2px rgba(60, 64, 67, 0.3), 0px 1px 3px 1px rgba(60, 64, 67, 0.15);\n",
              "      fill: #174EA6;\n",
              "    }\n",
              "\n",
              "    [theme=dark] .colab-df-convert {\n",
              "      background-color: #3B4455;\n",
              "      fill: #D2E3FC;\n",
              "    }\n",
              "\n",
              "    [theme=dark] .colab-df-convert:hover {\n",
              "      background-color: #434B5C;\n",
              "      box-shadow: 0px 1px 3px 1px rgba(0, 0, 0, 0.15);\n",
              "      filter: drop-shadow(0px 1px 2px rgba(0, 0, 0, 0.3));\n",
              "      fill: #FFFFFF;\n",
              "    }\n",
              "  </style>\n",
              "\n",
              "      <script>\n",
              "        const buttonEl =\n",
              "          document.querySelector('#df-b5dad3a5-7ad8-4908-97c6-bf16ff42d046 button.colab-df-convert');\n",
              "        buttonEl.style.display =\n",
              "          google.colab.kernel.accessAllowed ? 'block' : 'none';\n",
              "\n",
              "        async function convertToInteractive(key) {\n",
              "          const element = document.querySelector('#df-b5dad3a5-7ad8-4908-97c6-bf16ff42d046');\n",
              "          const dataTable =\n",
              "            await google.colab.kernel.invokeFunction('convertToInteractive',\n",
              "                                                     [key], {});\n",
              "          if (!dataTable) return;\n",
              "\n",
              "          const docLinkHtml = 'Like what you see? Visit the ' +\n",
              "            '<a target=\"_blank\" href=https://colab.research.google.com/notebooks/data_table.ipynb>data table notebook</a>'\n",
              "            + ' to learn more about interactive tables.';\n",
              "          element.innerHTML = '';\n",
              "          dataTable['output_type'] = 'display_data';\n",
              "          await google.colab.output.renderOutput(dataTable, element);\n",
              "          const docLink = document.createElement('div');\n",
              "          docLink.innerHTML = docLinkHtml;\n",
              "          element.appendChild(docLink);\n",
              "        }\n",
              "      </script>\n",
              "    </div>\n",
              "  </div>\n",
              "  "
            ]
          },
          "metadata": {},
          "execution_count": 7
        }
      ]
    },
    {
      "cell_type": "markdown",
      "source": [
        "## Cohere API: U there?\n",
        "Here we retrieve the sentence embeddings through Cohere API. Be sure to check out the documentation: https://docs.cohere.ai/api-reference/"
      ],
      "metadata": {
        "id": "GIzW7VIwP-Vx"
      }
    },
    {
      "cell_type": "code",
      "source": [
        "# Retrieve the embeddings of our sentences by calling\n",
        "# the API of Cohere.\n",
        "embeds = co.embed(texts = sentences,\n",
        "                       model = \"small\", \n",
        "                       truncate = \"LEFT\").embeddings\n",
        "\n",
        "embeds = np.array(embeds)\n",
        "embeds.shape"
      ],
      "metadata": {
        "id": "cL3MSRDMG-xo",
        "colab": {
          "base_uri": "https://localhost:8080/"
        },
        "outputId": "53beb0d8-a0a2-4520-e908-27a2cb1fd939"
      },
      "execution_count": 8,
      "outputs": [
        {
          "output_type": "execute_result",
          "data": {
            "text/plain": [
              "(14, 1024)"
            ]
          },
          "metadata": {},
          "execution_count": 8
        }
      ]
    },
    {
      "cell_type": "markdown",
      "source": [
        "Below we make use of UMAP and altair. UMAP we use to reduce the dimensions of our embeddings (Small size is 1024 😵). No other way to plot it then using dimensionality reduction. With Altair we make an interactive plot.\n",
        "\n",
        "\n",
        "Please hover over some of these points and see if you can identify a pattern."
      ],
      "metadata": {
        "id": "vWVGOqrCRbRl"
      }
    },
    {
      "cell_type": "code",
      "source": [
        "# UMAP reduces dimensions from 1024 to 2, which we can plot\n",
        "reducer = umap.UMAP()\n",
        "umap_embeds = reducer.fit_transform(embeds)\n",
        "# Make interactive plot\n",
        "df_explore = pd.DataFrame(data={'text': df['conversation']})\n",
        "df_explore['x'] = umap_embeds[:,0]\n",
        "df_explore['y'] = umap_embeds[:,1]\n",
        "chart = alt.Chart(df_explore).mark_circle(size=60).encode(\n",
        "    x=alt.X('x', scale=alt.Scale(zero=False)),\n",
        "    y=alt.Y('y', scale=alt.Scale(zero=False)),\n",
        "    tooltip=['text']\n",
        ").properties(width=700, height=400)\n",
        "chart.interactive()"
      ],
      "metadata": {
        "id": "pg1WbkT1HvqC",
        "colab": {
          "base_uri": "https://localhost:8080/",
          "height": 503
        },
        "outputId": "4e47dadc-0925-4d8a-cc5c-4daf7b5a95e9"
      },
      "execution_count": 9,
      "outputs": [
        {
          "output_type": "stream",
          "name": "stderr",
          "text": [
            "/usr/local/lib/python3.8/dist-packages/umap/umap_.py:2344: UserWarning: n_neighbors is larger than the dataset size; truncating to X.shape[0] - 1\n",
            "  warn(\n"
          ]
        },
        {
          "output_type": "execute_result",
          "data": {
            "text/html": [
              "\n",
              "<div id=\"altair-viz-13967e5edf7041b1bdfd45aa9065614e\"></div>\n",
              "<script type=\"text/javascript\">\n",
              "  var VEGA_DEBUG = (typeof VEGA_DEBUG == \"undefined\") ? {} : VEGA_DEBUG;\n",
              "  (function(spec, embedOpt){\n",
              "    let outputDiv = document.currentScript.previousElementSibling;\n",
              "    if (outputDiv.id !== \"altair-viz-13967e5edf7041b1bdfd45aa9065614e\") {\n",
              "      outputDiv = document.getElementById(\"altair-viz-13967e5edf7041b1bdfd45aa9065614e\");\n",
              "    }\n",
              "    const paths = {\n",
              "      \"vega\": \"https://cdn.jsdelivr.net/npm//vega@5?noext\",\n",
              "      \"vega-lib\": \"https://cdn.jsdelivr.net/npm//vega-lib?noext\",\n",
              "      \"vega-lite\": \"https://cdn.jsdelivr.net/npm//vega-lite@4.17.0?noext\",\n",
              "      \"vega-embed\": \"https://cdn.jsdelivr.net/npm//vega-embed@6?noext\",\n",
              "    };\n",
              "\n",
              "    function maybeLoadScript(lib, version) {\n",
              "      var key = `${lib.replace(\"-\", \"\")}_version`;\n",
              "      return (VEGA_DEBUG[key] == version) ?\n",
              "        Promise.resolve(paths[lib]) :\n",
              "        new Promise(function(resolve, reject) {\n",
              "          var s = document.createElement('script');\n",
              "          document.getElementsByTagName(\"head\")[0].appendChild(s);\n",
              "          s.async = true;\n",
              "          s.onload = () => {\n",
              "            VEGA_DEBUG[key] = version;\n",
              "            return resolve(paths[lib]);\n",
              "          };\n",
              "          s.onerror = () => reject(`Error loading script: ${paths[lib]}`);\n",
              "          s.src = paths[lib];\n",
              "        });\n",
              "    }\n",
              "\n",
              "    function showError(err) {\n",
              "      outputDiv.innerHTML = `<div class=\"error\" style=\"color:red;\">${err}</div>`;\n",
              "      throw err;\n",
              "    }\n",
              "\n",
              "    function displayChart(vegaEmbed) {\n",
              "      vegaEmbed(outputDiv, spec, embedOpt)\n",
              "        .catch(err => showError(`Javascript Error: ${err.message}<br>This usually means there's a typo in your chart specification. See the javascript console for the full traceback.`));\n",
              "    }\n",
              "\n",
              "    if(typeof define === \"function\" && define.amd) {\n",
              "      requirejs.config({paths});\n",
              "      require([\"vega-embed\"], displayChart, err => showError(`Error loading script: ${err.message}`));\n",
              "    } else {\n",
              "      maybeLoadScript(\"vega\", \"5\")\n",
              "        .then(() => maybeLoadScript(\"vega-lite\", \"4.17.0\"))\n",
              "        .then(() => maybeLoadScript(\"vega-embed\", \"6\"))\n",
              "        .catch(showError)\n",
              "        .then(() => displayChart(vegaEmbed));\n",
              "    }\n",
              "  })({\"config\": {\"view\": {\"continuousWidth\": 400, \"continuousHeight\": 300}}, \"data\": {\"name\": \"data-7d6cb4fadc724dcb4851fb56ab8650ee\"}, \"mark\": {\"type\": \"circle\", \"size\": 60}, \"encoding\": {\"tooltip\": [{\"field\": \"text\", \"type\": \"nominal\"}], \"x\": {\"field\": \"x\", \"scale\": {\"zero\": false}, \"type\": \"quantitative\"}, \"y\": {\"field\": \"y\", \"scale\": {\"zero\": false}, \"type\": \"quantitative\"}}, \"height\": 400, \"selection\": {\"selector001\": {\"type\": \"interval\", \"bind\": \"scales\", \"encodings\": [\"x\", \"y\"]}}, \"width\": 700, \"$schema\": \"https://vega.github.io/schema/vega-lite/v4.17.0.json\", \"datasets\": {\"data-7d6cb4fadc724dcb4851fb56ab8650ee\": [{\"text\": \"I am watching a movie.\", \"x\": 5.299401760101318, \"y\": -12.204935073852539}, {\"text\": \"I'm going to the movies.\", \"x\": 4.651095867156982, \"y\": -12.397821426391602}, {\"text\": \"Cinema's popcorn smell is amazing.\", \"x\": 5.227527141571045, \"y\": -13.833810806274414}, {\"text\": \"These guys kept talking while I was watching the movie.\", \"x\": 4.528194904327393, \"y\": -13.182402610778809}, {\"text\": \"Groceries are expensive now?\", \"x\": 6.0465497970581055, \"y\": -14.89029312133789}, {\"text\": \"What happend to all my groceries, they are all rotten.\", \"x\": 6.851108551025391, \"y\": -14.544428825378418}, {\"text\": \"I like avocado toast\", \"x\": 7.185161590576172, \"y\": -13.128093719482422}, {\"text\": \"Cheese is over there!\", \"x\": 6.388223648071289, \"y\": -13.957526206970215}, {\"text\": \"Spinach is the food of the gods.\", \"x\": 7.247848033905029, \"y\": -13.989090919494629}, {\"text\": \"Healthy dose of protein powder is always good.\", \"x\": 5.826257705688477, \"y\": -14.203864097595215}, {\"text\": \"Coldplay is not my favorite band anymore.\", \"x\": 6.630188941955566, \"y\": -13.343833923339844}, {\"text\": \"I really liked MTV, with all the video clips.\", \"x\": 5.185788154602051, \"y\": -13.072958946228027}, {\"text\": \"What music would you like me to play?\", \"x\": 6.194706439971924, \"y\": -12.364723205566406}, {\"text\": \"He's playing piano very well.\", \"x\": 6.031570911407471, \"y\": -13.102449417114258}]}}, {\"mode\": \"vega-lite\"});\n",
              "</script>"
            ],
            "text/plain": [
              "alt.Chart(...)"
            ]
          },
          "metadata": {},
          "execution_count": 9
        }
      ]
    },
    {
      "cell_type": "markdown",
      "source": [
        "## Creating FAISS: the good stuff.\n",
        "Creating FAISS is rather straightforward. \n",
        "1. Identify which index you want to use, with the dimension your embeddings have. \n",
        "1. Add all the embeddings you want to add.\n",
        "\n",
        "Since we made embeddings of sentences, we can now query this index with an example like *\"I like eating cabbage\"*. We turn this into a embedding and search for related sentences in our small index."
      ],
      "metadata": {
        "id": "IiHEqxq5R6Nd"
      }
    },
    {
      "cell_type": "code",
      "source": [
        "# Create our Approximate Nearest Neighbour Index (ANN)\n",
        "# https://github.com/facebookresearch/faiss/wiki/Guidelines-to-choose-an-index\n",
        "faiss_index = faiss.IndexFlatIP(1024)\n",
        "\n",
        "# Convert from float64 to float32 to prevent bug:\n",
        "# https://github.com/facebookresearch/faiss/issues/461\n",
        "faiss_index.add(np.float32(np.stack(embeds)))\n",
        "\n",
        "# Create an embedding for our sentence\n",
        "embed = co.embed(texts = [\"I like eating cabbage!\"], \n",
        "                 model = \"small\",\n",
        "                 truncate = \"LEFT\").embeddings\n",
        "\n",
        "# Get the results\n",
        "scores, indices = faiss_index.search(np.float32(np.array(embed)), 5)\n",
        "\n",
        "# Print the results\n",
        "for indice, score in zip(indices[0], scores[0]):\n",
        "  print(sentences[indice], \"\\t\\t\\t\\t\", score)"
      ],
      "metadata": {
        "id": "SNXsPkwZJbET",
        "colab": {
          "base_uri": "https://localhost:8080/"
        },
        "outputId": "f40bef79-d566-4867-f4e6-d6aa629f8a0d"
      },
      "execution_count": 10,
      "outputs": [
        {
          "output_type": "stream",
          "name": "stdout",
          "text": [
            "I like avocado toast \t\t\t\t 1615.6023\n",
            "Spinach is the food of the gods. \t\t\t\t 1347.9639\n",
            "Cheese is over there! \t\t\t\t 970.35675\n",
            "Cinema's popcorn smell is amazing. \t\t\t\t 938.289\n",
            "What happend to all my groceries, they are all rotten. \t\t\t\t 923.1715\n"
          ]
        }
      ]
    },
    {
      "cell_type": "markdown",
      "source": [
        "✨ Tada ✨, hopefully the results match your expectations! \n",
        "\n",
        "🙌 Good luck with the project! 🙌"
      ],
      "metadata": {
        "id": "9QauKfJnS5lS"
      }
    }
  ]
}